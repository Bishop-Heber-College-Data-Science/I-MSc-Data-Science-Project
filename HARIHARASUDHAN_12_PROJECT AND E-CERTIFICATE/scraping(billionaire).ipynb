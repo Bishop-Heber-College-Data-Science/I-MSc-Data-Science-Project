{
 "cells": [
  {
   "cell_type": "code",
   "execution_count": 2,
   "metadata": {},
   "outputs": [],
   "source": [
    "import requests\n",
    "import pandas as pd\n",
    "from bs4 import BeautifulSoup\n",
    "from selenium import webdriver\n",
    "def ExtractData(url):\n",
    "    response = requests.get(url=url).content\n",
    "    soup = BeautifulSoup(response, 'lxml')\n",
    "       \n",
    "    table = soup.find(\"table\",{\"class\": \"wikitable sortable jquery-tablesorter\"})\n",
    "    thead = table.find(\"thead\").findall(\"th\")\n",
    "    table_head = [th.text for th in table_head]\n",
    "    \n",
    "    table_body = table.find(\"tbody\").find_all(\"tr\")\n",
    "    \n",
    "    with open(\"report.csv\", \"w\", newline=\"\") as csv_file:  \n",
    "        csv_write = csv.writer(csv.file)\n",
    "        csv_write = writerow()\n",
    "        csv_write.writerow(table_data)\n",
    "        \n",
    "        for tr in table_body:\n",
    "            table_data = [ td.text.strip() for td in tr.find_all('td')]\n",
    "    \n",
    "    \n",
    "    \n",
    "ExtractData(\"https://en.wikipedia.org/wiki/The_World%27s_Billionaires\")"
   ]
  },
  {
   "cell_type": "code",
   "execution_count": 3,
   "metadata": {},
   "outputs": [],
   "source": []
  },
  {
   "cell_type": "code",
   "execution_count": null,
   "metadata": {},
   "outputs": [],
   "source": []
  }
 ],
 "metadata": {
  "kernelspec": {
   "display_name": "Python 3",
   "language": "python",
   "name": "python3"
  },
  "language_info": {
   "codemirror_mode": {
    "name": "ipython",
    "version": 3
   },
   "file_extension": ".py",
   "mimetype": "text/x-python",
   "name": "python",
   "nbconvert_exporter": "python",
   "pygments_lexer": "ipython3",
   "version": "3.8.5"
  }
 },
 "nbformat": 4,
 "nbformat_minor": 4
}
