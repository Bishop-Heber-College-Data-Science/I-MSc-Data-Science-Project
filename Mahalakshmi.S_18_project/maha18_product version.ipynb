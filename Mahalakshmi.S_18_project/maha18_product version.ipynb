{
 "cells": [
  {
   "cell_type": "markdown",
   "metadata": {},
   "source": [
    "Mahalakshmi.S"
   ]
  },
  {
   "cell_type": "markdown",
   "metadata": {},
   "source": [
    "DS205229118"
   ]
  },
  {
   "cell_type": "code",
   "execution_count": 7,
   "metadata": {},
   "outputs": [
    {
     "name": "stdout",
     "output_type": "stream",
     "text": [
      "{'title': 'V1: MAX BORE SILVER', 'price': '$9.49', 'tag': 'Version 1', 'sku': '20-V1-MB-SV'}\n",
      "{'title': 'V1: MINI RED', 'price': '$7.95', 'tag': 'Version 1', 'sku': '18-V1-MN-RD'}\n",
      "{'title': 'V1: MINI BLACK', 'price': '$7.95', 'tag': 'Version 1', 'sku': '18-V1-MN-BK'}\n",
      "{'title': 'V1: TALL BOY WHITE PLASTIC', 'price': '$9.49', 'tag': 'Version 1', 'sku': '17-V1-TB-WH'}\n",
      "{'title': 'V1:BIG BORE – BLACK', 'price': '$9.49', 'tag': 'Version 1', 'sku': '18-V1-BB-BK'}\n",
      "{'title': 'V1: MINI TALLBOY SILVER', 'price': '$9.49', 'tag': 'Version 1', 'sku': '18-V1-TM-SV'}\n",
      "{'title': 'COLORED ACRYLIC – BLUE', 'price': '$9.49', 'tag': 'Version 1', 'sku': '18-V1-ST-BA (Please Tighten Lightly)'}\n",
      "{'title': 'COLORED ACRYLIC – RED', 'price': '$9.49', 'tag': 'Version 1', 'sku': '18-V1-ST-RA (Please Tighten Lightly)'}\n",
      "{'title': 'COLORED ACRYLIC -GREEN', 'price': '$9.49', 'tag': 'Version 1', 'sku': '18-V1-ST-GA (Please Tighten Lightly)'}\n",
      "{'title': 'V1: BRASS', 'price': '$10.49', 'tag': 'Version 1', 'sku': '18-V1-ST-BS'}\n",
      "{'title': 'V1: WHITE (machined p.o.m plastic)', 'price': '$7.95', 'tag': 'Version 1', 'sku': '18-V1-ST-WH'}\n",
      "{'title': 'V1:BIG BORE – SILVER', 'price': '$9.49', 'tag': 'Version 1', 'sku': '17-V1-BB-SV'}\n",
      "{'title': 'V1:SILVER SKIRTLESS', 'price': '$9.49', 'tag': 'Version 1', 'sku': '17-V1-SK-SV'}\n",
      "{'title': 'V1:CLEAR SKIRTLESS', 'price': '$9.49', 'tag': 'Version 1', 'sku': '18-V1-SK-CR (Please Tighten Lightly)'}\n",
      "{'title': 'V1: BLACK', 'price': '$9.49', 'tag': 'Version 1', 'sku': '17-V1-ST-BK'}\n",
      "{'title': 'V1: DARK BLUE', 'price': '$9.49', 'tag': 'Version 1', 'sku': '17-V1-ST-DB'}\n",
      "{'title': 'V1: LIGHT BLUE', 'price': '$9.49', 'tag': 'Version 1', 'sku': '17-V1-ST-BL'}\n",
      "{'title': 'V1: GREEN', 'price': '$9.49', 'tag': 'Version 1', 'sku': '17-V1-ST-GN'}\n",
      "{'title': 'V1: ORANGE', 'price': '$9.49', 'tag': 'Version 1', 'sku': '17-V1-ST-OR'}\n",
      "{'title': 'V1: PURPLE', 'price': '$9.49', 'tag': 'Version 1', 'sku': '17-V1-ST-PR'}\n",
      "{'title': 'V1: RED', 'price': '$9.49', 'tag': 'Version 1', 'sku': '17-V1-ST-RD'}\n",
      "{'title': 'V1: CHROME', 'price': '$10.49', 'tag': 'Version 1', 'sku': '18-V1-ST-CH'}\n",
      "{'title': 'V1: SILVER', 'price': '$9.49', 'tag': 'Version 1', 'sku': '17-V1-ST-SV'}\n",
      "{'title': 'V1: GOLD', 'price': '$9.49', 'tag': 'Version 1', 'sku': '17-V1-ST-GL'}\n",
      "{'title': 'V1:CLEAR', 'price': '$9.49', 'tag': 'Version 1', 'sku': '17-V1-ST-CR (Please Tighten Lightly)'}\n",
      "{'title': 'V1: MINI SILVER', 'price': '$7.95', 'tag': 'Version 1', 'sku': '18-V1-MN-SV'}\n",
      "{'title': 'V1: TALL BOY SILVER', 'price': '$10.95', 'tag': 'Version 1', 'sku': '17-V1-TB-SV'}\n",
      "{'title': 'V1: TALL BOY BLACK', 'price': '$10.95', 'tag': 'Version 1', 'sku': '17-V1-TB-BK'}\n",
      "{'title': 'V1: TALL BOY CLEAR', 'price': '$10.95', 'tag': 'Version 1', 'sku': '17-V1-TB-CR (Please Tighten Lightly)'}\n",
      "{'title': 'V1: TALL BOY DARK BLUE', 'price': '$10.95', 'tag': 'Version 1', 'sku': '17-V1-TB-DB'}\n",
      "{'title': 'V1: TALL BOY GOLD', 'price': '$10.95', 'tag': 'Version 1', 'sku': '17-V1-TB-GL'}\n",
      "{'title': 'V1: TALL BOY GREEN', 'price': '$10.95', 'tag': 'Version 1', 'sku': '17-V1-TB-GR'}\n",
      "{'title': 'V1: TALL BOY LIGHT BLUE', 'price': '$10.95', 'tag': 'Version 1', 'sku': '17-V1-TB-LB'}\n",
      "{'title': 'V1: TALL BOY ORANGE', 'price': '$10.95', 'tag': 'Version 1', 'sku': '17-V1-TB-OR'}\n",
      "{'title': 'V1: TALL BOY PURPLE', 'price': '$10.95', 'tag': 'Version 1', 'sku': '17-V1-TB-PR'}\n",
      "{'title': 'V1: TALL BOY RED', 'price': '$10.95', 'tag': 'Version 1', 'sku': '17-V1-TB-RD'}\n"
     ]
    }
   ],
   "source": [
    "from requests_html import HTMLSession\n",
    "import csv\n",
    "import time\n",
    "\n",
    "s = HTMLSession()\n",
    "url = 'https://barefootbuttons.com/product-category/version-1/'\n",
    "\n",
    "def get_links(url):\n",
    "    r = s.get(url)\n",
    "    items = r.html.find('div.product-small.box')\n",
    "    links = []\n",
    "    for item in items:\n",
    "        links.append(item.find('a', first=True).attrs['href'])\n",
    "    return links\n",
    "\n",
    "def get_productdata(link):\n",
    "    r = s.get(link)\n",
    "    title = r.html.find('h1', first=True).full_text  #name of the version\n",
    "    price = r.html.find('span.woocommerce-Price-amount.amount bdi')[1].full_text  #price\n",
    "    tag = r.html.find('a[rel=tag]', first=True).full_text  #version\n",
    "    sku = r.html.find('span.sku', first=True).full_text #sku(stock keeping unit)\n",
    "\n",
    "    product = {\n",
    "        'title': title.strip(),\n",
    "        'price': price.strip(),\n",
    "        'tag': tag.strip(),\n",
    "        'sku': sku.strip()\n",
    "    }\n",
    "    print(product)\n",
    "    return product\n",
    "\n",
    "results = []\n",
    "links = get_links(url)\n",
    "\n",
    "for link in links:\n",
    "    results.append(get_productdata(link))\n",
    "    time.sleep(1)\n",
    "\n",
    "with open('version1.csv', 'w', encoding='utf8', newline='') as f:\n",
    "    fc = csv.DictWriter(f, fieldnames=results[0].keys(),)\n",
    "    fc.writeheader()\n",
    "    fc.writerows(results)"
   ]
  }
 ],
 "metadata": {
  "kernelspec": {
   "display_name": "Python 3",
   "language": "python",
   "name": "python3"
  },
  "language_info": {
   "codemirror_mode": {
    "name": "ipython",
    "version": 3
   },
   "file_extension": ".py",
   "mimetype": "text/x-python",
   "name": "python",
   "nbconvert_exporter": "python",
   "pygments_lexer": "ipython3",
   "version": "3.8.5"
  }
 },
 "nbformat": 4,
 "nbformat_minor": 4
}
